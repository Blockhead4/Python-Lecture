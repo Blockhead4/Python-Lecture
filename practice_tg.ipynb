{
 "cells": [
  {
   "cell_type": "code",
   "execution_count": 1,
   "metadata": {},
   "outputs": [],
   "source": [
    "txtfile = 'words.txt'"
   ]
  },
  {
   "cell_type": "code",
   "execution_count": 5,
   "metadata": {},
   "outputs": [
    {
     "name": "stdout",
     "output_type": "stream",
     "text": [
      "[('apache', 1), ('apple', 6), ('banana', 5), ('shape', 1), ('decal', 1), ('apple', 6), ('apple', 6), ('banana', 5), ('did', 1), ('comeon', 1), ('apple', 6), ('banana', 5), ('neep', 1), ('shake', 1), ('apple', 6), ('ham', 1), ('noon', 1), ('banana', 5), ('apple', 6), ('inner', 2), ('refer', 1), ('banana', 5), ('bear', 2), ('call', 1), ('river', 1), ('kara', 1), ('inner', 2), ('bear', 2)]\n",
      "[('apple', 6), ('apple', 6), ('apple', 6), ('apple', 6), ('apple', 6), ('apple', 6), ('banana', 5), ('banana', 5), ('banana', 5), ('banana', 5), ('banana', 5), ('inner', 2), ('bear', 2), ('inner', 2), ('bear', 2), ('apache', 1), ('shape', 1), ('decal', 1), ('did', 1), ('comeon', 1), ('neep', 1), ('shake', 1), ('ham', 1), ('noon', 1), ('refer', 1), ('call', 1), ('river', 1), ('kara', 1)]\n"
     ]
    }
   ],
   "source": [
    "with open(txtfile, 'r') as file:\n",
    "    words = []\n",
    "    for line in file:\n",
    "        words.extend(line.split())\n",
    "    key = []\n",
    "    val = []\n",
    "    for word in words:\n",
    "        key.append(word)\n",
    "        val.append(words.count(word))\n",
    "    freq = dict(zip(key,val))\n",
    "    word_count = list(freq.items())\n",
    "    word_count = sorted(a, key=lambda x:x[1], reverse=True)\n",
    "           "
   ]
  },
  {
   "cell_type": "code",
   "execution_count": 144,
   "metadata": {},
   "outputs": [
    {
     "name": "stdout",
     "output_type": "stream",
     "text": [
      "총 단어수: 28\n"
     ]
    }
   ],
   "source": [
    "print(f'총 단어수: {len(words)}')"
   ]
  },
  {
   "cell_type": "code",
   "execution_count": 145,
   "metadata": {
    "scrolled": true
   },
   "outputs": [
    {
     "name": "stdout",
     "output_type": "stream",
     "text": [
      "단어:apple     , 빈도:6         \n",
      "단어:banana    , 빈도:5         \n",
      "단어:inner     , 빈도:2         \n",
      "단어:bear      , 빈도:2         \n",
      "단어:apache    , 빈도:1         \n",
      "단어:shape     , 빈도:1         \n",
      "단어:decal     , 빈도:1         \n",
      "단어:did       , 빈도:1         \n",
      "단어:comeon    , 빈도:1         \n",
      "단어:neep      , 빈도:1         \n"
     ]
    }
   ],
   "source": [
    "for i in range(10):\n",
    "    print(f'단어:{word_count[i][0]:<10s}, 빈도:{word_count[i][1]:<10d}')"
   ]
  },
  {
   "cell_type": "code",
   "execution_count": null,
   "metadata": {},
   "outputs": [],
   "source": []
  },
  {
   "cell_type": "code",
   "execution_count": null,
   "metadata": {},
   "outputs": [],
   "source": [
    "5. 다음의 지시대로 폴더와 파일을 프로그램에서 만드시오.\n",
    "랜덤으로 1, 2, 3 중 하나를 내용으로 갖는 txt 파일100개를 \n",
    "하나의 디렉토리(c:/Temp/Ex04) 안에 생성하는 코드를 작성하시오.\n",
    "(파일 제목은 4자리 정수를 랜덤으로 할당. ex - 1382.txt , 0201.txt , 9012.txt , ......... )\n",
    "제목이 0000~3333 인 txt 파일은 low 폴더로, 3334~6666인 txt 파일은 mid 폴더로, \n",
    "6667~9999 인 파일은 high 폴더로 이동시키는 코드를 작성하시오.\n",
    "low, mid, high 폴더 안에 제목이 1, 2, 3 인 폴더를 각각 만들고, \n",
    "txt 파일 안의 내용에 따라 txt파일을 폴더안으로 이동시켜 분류하시오.\n",
    "결론적으로 c:/Temp/Ex04 폴더 밑에는 low, mid, high 폴더 3개가 생기고, \n",
    "이 각각의 폴더에는 1, 2, 3 폴더가 각각 생기고 이 폴더밑에 파일이 들어 있어야 함."
   ]
  },
  {
   "cell_type": "code",
   "execution_count": 182,
   "metadata": {},
   "outputs": [],
   "source": [
    "import random\n",
    "\n",
    "for _ in range(100):\n",
    "    filenames = '{:0>4}.txt'.format(random.randint(0,9999))\n",
    "    file_number = int(filenames[:4])\n",
    "    \n",
    "    if file_number <= 3333:\n",
    "        path = 'low/'    \n",
    "    elif file_number <= 6666:\n",
    "        path = 'mid/'\n",
    "    else:\n",
    "        path = 'high/'\n",
    "        \n",
    "    rn = str(random.randint(1,3))\n",
    "    \n",
    "    with open(path+rn+'/'+filenames, 'w') as file:\n",
    "        file.write(rn)"
   ]
  },
  {
   "cell_type": "code",
   "execution_count": 324,
   "metadata": {},
   "outputs": [
    {
     "data": {
      "text/plain": [
       "'0660.txt'"
      ]
     },
     "execution_count": 324,
     "metadata": {},
     "output_type": "execute_result"
    }
   ],
   "source": [
    "'{:0>4}.txt'.format(random.randint(0,9999))"
   ]
  },
  {
   "cell_type": "code",
   "execution_count": null,
   "metadata": {},
   "outputs": [],
   "source": [
    "6. Binary 파일을 16진수 값으로 출력하는 HexaDump 프로그램을 작성하시오.\n",
    "\n",
    "입력 형태\n",
    "찾을 파일명: C:/Temp/james.p\n",
    "\n",
    "출력 형태\n",
    "00000000:  00 01 44 E4 00 01 64 E4  41 42 43 11 00 61 F4 E4  ..D...d. ABC..a..\n",
    "00000010:  41 42 63 13 00 62 F4 E5  00 01 46 E9 FF 01 65 E2  ABc..b.. ..F...e. \n",
    "00000020:"
   ]
  },
  {
   "cell_type": "code",
   "execution_count": 396,
   "metadata": {
    "scrolled": true
   },
   "outputs": [],
   "source": [
    "d = '111011101001111101011101110001000111011110111010011111010111011100010001110111101110100111110101110111000100011101'"
   ]
  },
  {
   "cell_type": "code",
   "execution_count": 398,
   "metadata": {},
   "outputs": [],
   "source": [
    "hexa = hex(int(d, 2))"
   ]
  },
  {
   "cell_type": "code",
   "execution_count": 425,
   "metadata": {},
   "outputs": [],
   "source": [
    "hexa2 = hexa.replace('x', '')"
   ]
  },
  {
   "cell_type": "code",
   "execution_count": 426,
   "metadata": {},
   "outputs": [
    {
     "data": {
      "text/plain": [
       "'03ba7d7711dee9f5dc477ba7d7711d'"
      ]
     },
     "execution_count": 426,
     "metadata": {},
     "output_type": "execute_result"
    }
   ],
   "source": [
    "hexa2"
   ]
  },
  {
   "cell_type": "code",
   "execution_count": 428,
   "metadata": {
    "scrolled": true
   },
   "outputs": [],
   "source": [
    "t = []\n",
    "for i in range(0, len(hexa2), 2):\n",
    "    t.append(''.join(hexa2[i:i+2]))"
   ]
  },
  {
   "cell_type": "code",
   "execution_count": 437,
   "metadata": {},
   "outputs": [],
   "source": [
    "a = []\n",
    "for v in t:\n",
    "    if int(v, 16) <= 31:\n",
    "        a.append('.')\n",
    "    else:\n",
    "        a.append(chr(int(v, 16)))"
   ]
  },
  {
   "cell_type": "code",
   "execution_count": 438,
   "metadata": {},
   "outputs": [
    {
     "data": {
      "text/plain": [
       "['.', 'º', '}', 'w', '.', 'Þ', 'é', 'õ', 'Ü', 'G', '{', '§', '×', 'q', '.']"
      ]
     },
     "execution_count": 438,
     "metadata": {},
     "output_type": "execute_result"
    }
   ],
   "source": [
    "a"
   ]
  },
  {
   "cell_type": "code",
   "execution_count": 365,
   "metadata": {},
   "outputs": [
    {
     "name": "stdout",
     "output_type": "stream",
     "text": [
      "00000000:  03 0b 0a 07 0d 07 07 01 01 0d 0e 0e 09 0f 05 0d \n",
      "\n",
      "00000010:  0c 04 07 07 0b 0a 07 0d 07 07 01 01 0d "
     ]
    }
   ],
   "source": [
    "asc = []\n",
    "print('{:0>8}:'.format(hex(0).replace('x', '')), end='  ')\n",
    "\n",
    "for i in range(len(hexa)):\n",
    "    \n",
    "    print(tmp[i], end=' ')\n",
    "    \n",
    "    if bi2dec[i] <= 32:\n",
    "        asc.append('.')\n",
    "    else:\n",
    "        asc.append(chr(bi2dec[i]))\n",
    "        \n",
    "    if (i+1) % 16 == 0:\n",
    "        print(''.join(asc[i-16:i]))\n",
    "        print()\n",
    "        print('{:0>8}:'.format(hex(i+1).replace('x', '')), end='  ')\n",
    "        \n",
    "        "
   ]
  },
  {
   "cell_type": "code",
   "execution_count": 335,
   "metadata": {},
   "outputs": [
    {
     "data": {
      "text/plain": [
       "'020'"
      ]
     },
     "execution_count": 335,
     "metadata": {},
     "output_type": "execute_result"
    }
   ],
   "source": [
    "hex(32).replace('x', '')"
   ]
  },
  {
   "cell_type": "code",
   "execution_count": 368,
   "metadata": {},
   "outputs": [
    {
     "ename": "IndexError",
     "evalue": "list index out of range",
     "output_type": "error",
     "traceback": [
      "\u001b[1;31m---------------------------------------------------------------------------\u001b[0m",
      "\u001b[1;31mIndexError\u001b[0m                                Traceback (most recent call last)",
      "\u001b[1;32m<ipython-input-368-87a7b8e7e83f>\u001b[0m in \u001b[0;36m<module>\u001b[1;34m\u001b[0m\n\u001b[1;32m----> 1\u001b[1;33m \u001b[0mchr\u001b[0m\u001b[1;33m(\u001b[0m\u001b[0mbi2dec\u001b[0m\u001b[1;33m[\u001b[0m\u001b[1;36m29\u001b[0m\u001b[1;33m]\u001b[0m\u001b[1;33m)\u001b[0m\u001b[1;33m\u001b[0m\u001b[1;33m\u001b[0m\u001b[0m\n\u001b[0m",
      "\u001b[1;31mIndexError\u001b[0m: list index out of range"
     ]
    }
   ],
   "source": [
    "chr(bi2dec[29])"
   ]
  },
  {
   "cell_type": "code",
   "execution_count": 410,
   "metadata": {},
   "outputs": [
    {
     "data": {
      "text/plain": [
       "35"
      ]
     },
     "execution_count": 410,
     "metadata": {},
     "output_type": "execute_result"
    }
   ],
   "source": [
    "len(str(int(hexa, 16)))"
   ]
  },
  {
   "cell_type": "code",
   "execution_count": 277,
   "metadata": {},
   "outputs": [
    {
     "ename": "TypeError",
     "evalue": "format() argument 2 must be str, not builtin_function_or_method",
     "output_type": "error",
     "traceback": [
      "\u001b[1;31m---------------------------------------------------------------------------\u001b[0m",
      "\u001b[1;31mTypeError\u001b[0m                                 Traceback (most recent call last)",
      "\u001b[1;32m<ipython-input-277-4aee5d6e34c6>\u001b[0m in \u001b[0;36m<module>\u001b[1;34m\u001b[0m\n\u001b[1;32m----> 1\u001b[1;33m \u001b[0mformat\u001b[0m\u001b[1;33m(\u001b[0m\u001b[1;36m1101\u001b[0m\u001b[1;33m,\u001b[0m \u001b[0mhex\u001b[0m\u001b[1;33m)\u001b[0m\u001b[1;33m\u001b[0m\u001b[1;33m\u001b[0m\u001b[0m\n\u001b[0m",
      "\u001b[1;31mTypeError\u001b[0m: format() argument 2 must be str, not builtin_function_or_method"
     ]
    }
   ],
   "source": [
    "format(1101, hex)"
   ]
  },
  {
   "cell_type": "code",
   "execution_count": 360,
   "metadata": {},
   "outputs": [
    {
     "data": {
      "text/plain": [
       "' '"
      ]
     },
     "execution_count": 360,
     "metadata": {},
     "output_type": "execute_result"
    }
   ],
   "source": [
    "chr(32)"
   ]
  },
  {
   "cell_type": "code",
   "execution_count": 288,
   "metadata": {
    "scrolled": true
   },
   "outputs": [
    {
     "data": {
      "text/plain": [
       "'0xd'"
      ]
     },
     "execution_count": 288,
     "metadata": {},
     "output_type": "execute_result"
    }
   ],
   "source": [
    "hex(int('1101', 2))"
   ]
  },
  {
   "cell_type": "code",
   "execution_count": 370,
   "metadata": {},
   "outputs": [
    {
     "data": {
      "text/plain": [
       "'0x3ba7d7711dee9f5dc477ba7d7711d'"
      ]
     },
     "execution_count": 370,
     "metadata": {},
     "output_type": "execute_result"
    }
   ],
   "source": []
  },
  {
   "cell_type": "code",
   "execution_count": null,
   "metadata": {},
   "outputs": [],
   "source": []
  }
 ],
 "metadata": {
  "kernelspec": {
   "display_name": "Python 3",
   "language": "python",
   "name": "python3"
  },
  "language_info": {
   "codemirror_mode": {
    "name": "ipython",
    "version": 3
   },
   "file_extension": ".py",
   "mimetype": "text/x-python",
   "name": "python",
   "nbconvert_exporter": "python",
   "pygments_lexer": "ipython3",
   "version": "3.7.3"
  }
 },
 "nbformat": 4,
 "nbformat_minor": 2
}
