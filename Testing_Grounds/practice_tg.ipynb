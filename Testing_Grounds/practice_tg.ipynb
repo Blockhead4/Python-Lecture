{
 "cells": [
  {
   "cell_type": "code",
   "execution_count": null,
   "metadata": {},
   "outputs": [],
   "source": [
    "6. Binary 파일을 16진수 값으로 출력하는 HexaDump 프로그램을 작성하시오.\n",
    "\n",
    "입력 형태\n",
    "찾을 파일명: C:/Temp/james.p\n",
    "\n",
    "출력 형태\n",
    "00000000:  00 01 44 E4 00 01 64 E4  41 42 43 11 00 61 F4 E4  ..D...d. ABC..a..\n",
    "00000010:  41 42 63 13 00 62 F4 E5  00 01 46 E9 FF 01 65 E2  ABc..b.. ..F...e. \n",
    "00000020:"
   ]
  },
  {
   "cell_type": "code",
   "execution_count": 104,
   "metadata": {},
   "outputs": [
    {
     "name": "stdout",
     "output_type": "stream",
     "text": [
      "['0x2e', '0x2e', '0x44', '0x2e', '0x2e', '0x2e', '0x64', '0x2e', '0x20', '0x41', '0x42', '0x43', '0x2e', '0x2e', '0x61', '0x2e', '0x2e']\n",
      "['0x41', '0x42', '0x63', '0x2e', '0x2e', '0x62', '0x2e', '0x2e', '0x20', '0x2e', '0x2e', '0x46', '0x2e', '0x2e', '0x2e', '0x65', '0x2e']\n"
     ]
    }
   ],
   "source": [
    "print([hex(ord(s)) for s in '..D...d. ABC..a..'])\n",
    "print([hex(ord(s)) for s in 'ABc..b.. ..F...e.'])"
   ]
  },
  {
   "cell_type": "code",
   "execution_count": 66,
   "metadata": {},
   "outputs": [],
   "source": [
    "import pickle"
   ]
  },
  {
   "cell_type": "code",
   "execution_count": 67,
   "metadata": {},
   "outputs": [],
   "source": [
    "name = 'james'\n",
    "age = 17\n",
    "address = '서울시 서초구 반포동'\n",
    "scores = {'korean': 90, 'english': 95, 'mathmatics': 85, 'science': 82}\n",
    " \n",
    "with open('james.p', 'wb') as file:    # james.p 파일을 바이너리 쓰기 모드(wb)로 열기\n",
    "    pickle.dump(name, file)\n",
    "    pickle.dump(age, file)\n",
    "    pickle.dump(address, file)\n",
    "    pickle.dump(scores, file)"
   ]
  },
  {
   "cell_type": "code",
   "execution_count": 101,
   "metadata": {
    "scrolled": true
   },
   "outputs": [],
   "source": [
    "def group(a, *ns):\n",
    "    for n in ns:\n",
    "        a = [a[i:i+n] for i in range(0, len(a), n)]\n",
    "    return a\n",
    "\n",
    "def join(a, *cs):\n",
    "    return [cs[0].join(join(t, *cs[1:])) for t in a] if cs else a\n",
    "\n",
    "def hexdump(data):\n",
    "    to_hex = lambda c: '{:02X}'.format(c)\n",
    "    to_chr = lambda c: chr(c) if 32 <= c < 127 else '.'\n",
    "    make = lambda f, *cs: join(group(list(map(f, data)), 8, 2), *cs)\n",
    "    hs = make(to_hex, '  ', ' ')\n",
    "    cs = make(to_chr, ' ', '')\n",
    "    for i, (h, c) in enumerate(zip(hs, cs)):\n",
    "        print ('{:010X}: {:48}  {:16}'.format(i * 16, h, c))"
   ]
  },
  {
   "cell_type": "code",
   "execution_count": 100,
   "metadata": {
    "scrolled": false
   },
   "outputs": [
    {
     "name": "stdout",
     "output_type": "stream",
     "text": [
      "0000000000: 80 03 58 05 00 00 00 6A  61 6D 65 73 71 00 2E 80  ..X....j amesq...\n",
      "0000000010: 03 4B 11 2E 80 03 58 1D  00 00 00 EC 84 9C EC 9A  .K....X. ........\n",
      "0000000020: B8 EC 8B 9C 20 EC 84 9C  EC B4 88 EA B5 AC 20 EB  .... ... ...... .\n",
      "0000000030: B0 98 ED 8F AC EB 8F 99  71 00 2E 80 03 7D 71 00  ........ q....}q.\n",
      "0000000040: 28 58 06 00 00 00 6B 6F  72 65 61 6E 71 01 4B 5A  (X....ko reanq.KZ\n",
      "0000000050: 58 07 00 00 00 65 6E 67  6C 69 73 68 71 02 4B 5F  X....eng lishq.K_\n",
      "0000000060: 58 0B 00 00 00 6D 61 74  68 65 6D 61 74 69 63 73  X....mat hematics\n",
      "0000000070: 71 03 4B 55 58 07 00 00  00 73 63 69 65 6E 63 65  q.KUX... .science\n",
      "0000000080: 71 04 4B 52 75 2E                                 q.KRu.          \n"
     ]
    }
   ],
   "source": [
    "with open ('james.p','rb') as file:\n",
    "    data=file.read()\n",
    "    hexdump(data)"
   ]
  },
  {
   "cell_type": "code",
   "execution_count": 155,
   "metadata": {},
   "outputs": [
    {
     "name": "stdout",
     "output_type": "stream",
     "text": [
      "..D...d.ABC..a..\n"
     ]
    }
   ],
   "source": [
    "hex_arr ='00 01 44 E4 00 01 64 E4 41 42 43 11 00 61 F4 E4'.split(' ')\n",
    "ret = ''\n",
    "for h in hex_arr:\n",
    "    n = int(h,16)\n",
    "    if 32<=n<127:\n",
    "        ret+=chr(n)\n",
    "    else:\n",
    "        ret+='.'\n",
    "print(ret)"
   ]
  },
  {
   "cell_type": "code",
   "execution_count": 1,
   "metadata": {},
   "outputs": [],
   "source": [
    "txtfile = 'words.txt'"
   ]
  },
  {
   "cell_type": "code",
   "execution_count": 12,
   "metadata": {},
   "outputs": [
    {
     "name": "stdout",
     "output_type": "stream",
     "text": [
      "총 단어수: 28\n",
      "단어:     apple, 빈도:6         \n",
      "단어:    banana, 빈도:5         \n",
      "단어:     inner, 빈도:2         \n",
      "단어:      bear, 빈도:2         \n",
      "단어:    apache, 빈도:1         \n",
      "단어:     shape, 빈도:1         \n",
      "단어:     decal, 빈도:1         \n",
      "단어:       did, 빈도:1         \n",
      "단어:    comeon, 빈도:1         \n",
      "단어:      neep, 빈도:1         \n"
     ]
    }
   ],
   "source": [
    "import operator\n",
    "\n",
    "with open(txtfile, 'r') as file:\n",
    "    words = []\n",
    "    for line in file:\n",
    "        words.extend(line.split())\n",
    "    words_dic = {}\n",
    "    for word in words:\n",
    "        if words_dic.get(word) == None:\n",
    "            words_dic[word] = words.count(word)\n",
    "        else:\n",
    "            continue\n",
    "    \n",
    "    word_count = sorted(words_dic.items(), key=operator.itemgetter(1), reverse=True)\n",
    "    \n",
    "print(f'총 단어수: {len(words)}')\n",
    "for i in range(10):\n",
    "    print(f'단어:{word_count[i][0]:>10s}, 빈도:{word_count[i][1]:<10d}')"
   ]
  },
  {
   "cell_type": "code",
   "execution_count": 3,
   "metadata": {},
   "outputs": [
    {
     "data": {
      "text/plain": [
       "[('apple', 6),\n",
       " ('banana', 5),\n",
       " ('inner', 2),\n",
       " ('bear', 2),\n",
       " ('apache', 1),\n",
       " ('shape', 1),\n",
       " ('decal', 1),\n",
       " ('did', 1),\n",
       " ('comeon', 1),\n",
       " ('neep', 1),\n",
       " ('shake', 1),\n",
       " ('ham', 1),\n",
       " ('noon', 1),\n",
       " ('refer', 1),\n",
       " ('call', 1),\n",
       " ('river', 1),\n",
       " ('kara', 1)]"
      ]
     },
     "execution_count": 3,
     "metadata": {},
     "output_type": "execute_result"
    }
   ],
   "source": [
    "word_count"
   ]
  },
  {
   "cell_type": "code",
   "execution_count": null,
   "metadata": {},
   "outputs": [],
   "source": []
  }
 ],
 "metadata": {
  "kernelspec": {
   "display_name": "Python 3",
   "language": "python",
   "name": "python3"
  },
  "language_info": {
   "codemirror_mode": {
    "name": "ipython",
    "version": 3
   },
   "file_extension": ".py",
   "mimetype": "text/x-python",
   "name": "python",
   "nbconvert_exporter": "python",
   "pygments_lexer": "ipython3",
   "version": "3.7.3"
  }
 },
 "nbformat": 4,
 "nbformat_minor": 2
}
