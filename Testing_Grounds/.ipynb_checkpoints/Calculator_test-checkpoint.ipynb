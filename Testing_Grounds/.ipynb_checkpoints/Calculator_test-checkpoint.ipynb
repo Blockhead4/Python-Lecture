{
 "cells": [
  {
   "cell_type": "code",
   "execution_count": 8,
   "metadata": {},
   "outputs": [],
   "source": [
    "class Math_calc:\n",
    "    \n",
    "    def __init__(self, one):\n",
    "        self.one = one\n",
    "    \n",
    "    def __call__(self):\n",
    "        return self.one\n",
    "        \n",
    "    def plus(self, another):\n",
    "        return Engineering_calc(self.one + another)\n",
    "    \n",
    "    def minus(self, another):\n",
    "        return Engineering_calc(self.one - another)\n",
    "    \n",
    "    def mul(self, another):\n",
    "        return Engineering_calc(self.one * another)\n",
    "    \n",
    "    def div(self, another):\n",
    "        try:           \n",
    "            return Engineering_calc(self.one / another)\n",
    "        except Exception as e:\n",
    "            print('0으로 나눌 수 없습니다.', e)\n",
    "\n",
    "import math\n",
    "\n",
    "class Engineering_calc(Math_calc):          \n",
    "    \n",
    "    def sin(self):\n",
    "        return Engineering_calc(math.sin(self.one))\n",
    "    \n",
    "    def cos(self):\n",
    "        return Engineering_calc(math.cos(self.one))\n",
    "    \n",
    "    def tan(self):\n",
    "        return Engineering_calc(math.tan(self.one))"
   ]
  },
  {
   "cell_type": "code",
   "execution_count": 9,
   "metadata": {},
   "outputs": [],
   "source": [
    "one = Engineering_calc(3)"
   ]
  },
  {
   "cell_type": "code",
   "execution_count": 10,
   "metadata": {},
   "outputs": [
    {
     "data": {
      "text/plain": [
       "0.6569865987187891"
      ]
     },
     "execution_count": 10,
     "metadata": {},
     "output_type": "execute_result"
    }
   ],
   "source": [
    "one.plus(2).div(1).plus(2).sin()()"
   ]
  },
  {
   "cell_type": "code",
   "execution_count": null,
   "metadata": {},
   "outputs": [],
   "source": []
  },
  {
   "cell_type": "code",
   "execution_count": null,
   "metadata": {},
   "outputs": [],
   "source": []
  }
 ],
 "metadata": {
  "kernelspec": {
   "display_name": "Python 3",
   "language": "python",
   "name": "python3"
  },
  "language_info": {
   "codemirror_mode": {
    "name": "ipython",
    "version": 3
   },
   "file_extension": ".py",
   "mimetype": "text/x-python",
   "name": "python",
   "nbconvert_exporter": "python",
   "pygments_lexer": "ipython3",
   "version": "3.7.3"
  }
 },
 "nbformat": 4,
 "nbformat_minor": 2
}
